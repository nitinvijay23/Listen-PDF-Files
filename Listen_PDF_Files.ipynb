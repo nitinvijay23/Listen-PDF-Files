{
 "cells": [
  {
   "cell_type": "markdown",
   "metadata": {},
   "source": [
    "# Listen PDF Files instead of reading\n",
    "\n",
    "Read the pdf file and convert all the words to a mp3 file."
   ]
  },
  {
   "cell_type": "code",
   "execution_count": 10,
   "metadata": {
    "collapsed": false
   },
   "outputs": [
    {
     "name": "stdout",
     "output_type": "stream",
     "text": [
      " Week 3 Pandas Data Structures Series Object 1 dimensional a row DataFrame Object 2 dimensional a table Querying iloc for querying based on position loc for querying rows based on label Querying the DataFrame directly Projecting a subset of columns Using a boolean mask to filter data Week 3 Setting Data in Pandas To add new data df column a b c To set default data or overwrite all data df column 2 Week 3 Venn Diagram Staff Students 0123405 678 9 3 9 58 509 150 509 150 50123405 Week 3 Full outer join union Staff Students Week 3 Inner join intersection Staff Students Week 3 Chain Indexing df loc Washtenaw Total Population Generally bad pandas could return a copy of a view depending upon numpy Code smell If you see a you should think carefully about what you are doing Tom Augspurger Week 3 a b c d Scales Ratio scale units are equally spaced mathematical operations of are all valid E g height and weight Interval scale units are equally spaced but there is no true zero Ordinal scale the order of the units is important but not evenly spaced Letter grades such as A A are a good example Nominal scale categories of data but the categories have no order with respect to one another E g Teams of a sport\n"
     ]
    }
   ],
   "source": [
    "#Pseudo Code\n",
    "\n",
    "#1. Read the pdf file\n",
    "#2. Iterate over the pages and extract the text.\n",
    "#3. Make a string of all the text\n",
    "#4. Use gtts to convert string to mp3\n",
    "\n",
    "\n",
    "import PyPDF2\n",
    "import os\n",
    "from gtts import gTTS\n",
    "import re\n",
    "\n",
    "file_path = 'C:\\\\Users\\\\NITIN\\\\Desktop\\\\New folder\\\\introdatasciencepython_week3.pdf'\n",
    "\n",
    "if(os.path.exists(file_path)):\n",
    "    pass\n",
    "else:\n",
    "    print(\"File does not exists\")\n",
    "    exit()\n",
    "\n",
    "f = open(file_path, 'rb')\n",
    "\n",
    "# Get the no of pages in pdf\n",
    "\n",
    "\n",
    "pdffile = PyPDF2.PdfFileReader(f)\n",
    "no_of_pages = pdffile.getNumPages()\n",
    "\n",
    "# Iterate all the pages\n",
    "\n",
    "# Using regex to filter only words and numbers\n",
    "\n",
    "# Concatenate the words in each page\n",
    "\n",
    "string_words = ''\n",
    "for pageno in range(no_of_pages):\n",
    "    pi = pdffile.getPage(pageno)\n",
    "    page = pdffile.getPage(pageno)\n",
    "    content = page.extractText()\n",
    "    textonly = re.findall(r'[a-zA-Z0-9]+', content)\n",
    "    for word in textonly:\n",
    "        string_words = string_words + ' ' + word\n",
    "\n",
    "# Convert the string of words to mp3 file \n",
    "print(string_words)\n",
    "tts = gTTS(text=string_words, lang='en')\n",
    "tts.save(\"listen_pdf.mp3\")"
   ]
  },
  {
   "cell_type": "code",
   "execution_count": null,
   "metadata": {
    "collapsed": true
   },
   "outputs": [],
   "source": []
  }
 ],
 "metadata": {
  "anaconda-cloud": {},
  "kernelspec": {
   "display_name": "Python [Root]",
   "language": "python",
   "name": "Python [Root]"
  },
  "language_info": {
   "codemirror_mode": {
    "name": "ipython",
    "version": 3
   },
   "file_extension": ".py",
   "mimetype": "text/x-python",
   "name": "python",
   "nbconvert_exporter": "python",
   "pygments_lexer": "ipython3",
   "version": "3.5.2"
  }
 },
 "nbformat": 4,
 "nbformat_minor": 0
}
